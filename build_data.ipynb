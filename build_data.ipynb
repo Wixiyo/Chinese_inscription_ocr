{
 "cells": [
  {
   "cell_type": "code",
   "execution_count": 1,
   "id": "bc7c2a8f-a1f5-4869-8451-a775091d9fb4",
   "metadata": {},
   "outputs": [
    {
     "name": "stdout",
     "output_type": "stream",
     "text": [
      "python: can't open file 'tools/data/textdet/icdar_converter.py': [Errno 2] No such file or directory\n"
     ]
    }
   ],
   "source": [
    "!python tools/data/textdet/icdar_converter.py ../../data/icdar2017 -o ../../data/icdar2017 -d icdar2017 --split-list training test"
   ]
  },
  {
   "cell_type": "code",
   "execution_count": null,
   "id": "cc3b7e94-d794-4bfb-9d98-8aefc5019146",
   "metadata": {},
   "outputs": [],
   "source": []
  }
 ],
 "metadata": {
  "kernelspec": {
   "display_name": "Python 3 (ipykernel)",
   "language": "python",
   "name": "python3"
  },
  "language_info": {
   "codemirror_mode": {
    "name": "ipython",
    "version": 3
   },
   "file_extension": ".py",
   "mimetype": "text/x-python",
   "name": "python",
   "nbconvert_exporter": "python",
   "pygments_lexer": "ipython3",
   "version": "3.7.10"
  }
 },
 "nbformat": 4,
 "nbformat_minor": 5
}
