{
 "cells": [
  {
   "cell_type": "code",
   "execution_count": null,
   "id": "5403436a-a7cb-4356-a5f2-61a92f293ebe",
   "metadata": {},
   "outputs": [],
   "source": [
    "# 导入 opencv-python\n",
    "import cv2\n",
    "\n",
    "# 导入可视化工具包 matplotlib，并让绘制的图像嵌入在 notebook 中\n",
    "import matplotlib.pyplot as plt\n",
    "%matplotlib inline\n",
    "\n",
    "# 定义可视化图像函数，输入图像路径，可视化图像\n",
    "def show_img_from_path(img_path):\n",
    "    \"\"\"opencv 读入图像，matplotlib 可视化格式为 RGB，因此需将 BGR 转 RGB，最后可视化出来\"\"\"\n",
    "    img = cv2.imread(img_path)\n",
    "    img_rgb = cv2.cvtColor(img, cv2.COLOR_BGR2RGB)\n",
    "    plt.imshow(img_rgb)\n",
    "    plt.show()\n",
    "\n",
    "# 定义可视化图像函数，输入图像 array，可视化图像\n",
    "def show_img_from_array(img):\n",
    "    \"\"\"输入 array，matplotlib 可视化格式为 RGB，因此需将 BGR 转 RGB，最后可视化出来\"\"\"\n",
    "    img_rgb = cv2.cvtColor(img, cv2.COLOR_BGR2RGB)\n",
    "    plt.imshow(img_rgb)\n",
    "    plt.show()\n",
    "    \n",
    "show_img_from_path('../../../data/icdar2015/imgs/training\\\\a10.jpg')"
   ]
  },
  {
   "cell_type": "code",
   "execution_count": null,
   "id": "c348e8ea-73a3-484b-9d1b-62f4cdcba825",
   "metadata": {},
   "outputs": [],
   "source": [
    "from mmcv import Config\n",
    "from mmdet.apis import set_random_seed\n",
    "\n",
    "cfg = Config.fromfile('.././configs/textdet/maskrcnn/mask_rcnn_r50_fpn_160e_icdar2015-test.py')\n",
    "\n",
    "# 存放输出结果和日志的目录\n",
    "cfg.work_dir = '.././demo/det'\n",
    "\n",
    "# 初始学习率 0.001 是针对 8 个 GPU 训练的\n",
    "# 如果只有一个 GPU，则除以8\n",
    "cfg.optimizer.lr = 0.001 / 8\n",
    "cfg.lr_config.warmup = None\n",
    "\n",
    "# 每训练40张图像，记录一次日志\n",
    "cfg.log_config.interval = 40\n",
    "\n",
    "# 设置随机数种子\n",
    "cfg.seed = 0\n",
    "set_random_seed(0, deterministic=False)\n",
    "cfg.gpu_ids = range(1)\n",
    "\n",
    "print(cfg.pretty_text)"
   ]
  },
  {
   "cell_type": "code",
   "execution_count": null,
   "id": "ef90cd36-a09e-4df5-9611-7fee1501d013",
   "metadata": {},
   "outputs": [],
   "source": [
    "import mmcv\n",
    "from mmocr.datasets import build_dataset\n",
    "from mmocr.models import build_detector\n",
    "from mmocr.apis import train_detector\n",
    "import os.path as osp\n",
    "\n",
    "# 建立数据集\n",
    "datasets = [build_dataset(cfg.data.train)]\n",
    "\n",
    "# 建立模型\n",
    "model = build_detector(cfg.model, train_cfg=cfg.get('train_cfg'), test_cfg=cfg.get('test_cfg'))\n",
    "\n",
    "# 创建新目录，保存训练结果\n",
    "mmcv.mkdir_or_exist(osp.abspath(cfg.work_dir))\n",
    "\n",
    "train_detector(model, datasets, cfg, distributed=False, validate=True)"
   ]
  },
  {
   "cell_type": "code",
   "execution_count": null,
   "id": "e142919b-a9fd-4123-ade2-2cd5b8faa084",
   "metadata": {},
   "outputs": [],
   "source": []
  },
  {
   "cell_type": "code",
   "execution_count": null,
   "id": "b33bd95c-3c35-4c02-8d18-6a269aeb744d",
   "metadata": {},
   "outputs": [],
   "source": [
    "# !python det_train.py"
   ]
  },
  {
   "cell_type": "code",
   "execution_count": null,
   "id": "0ce86dac-6dbb-4a95-8215-cbe4e4d68c0b",
   "metadata": {},
   "outputs": [],
   "source": []
  }
 ],
 "metadata": {
  "kernelspec": {
   "display_name": "Python 3 (ipykernel)",
   "language": "python",
   "name": "python3"
  },
  "language_info": {
   "codemirror_mode": {
    "name": "ipython",
    "version": 3
   },
   "file_extension": ".py",
   "mimetype": "text/x-python",
   "name": "python",
   "nbconvert_exporter": "python",
   "pygments_lexer": "ipython3",
   "version": "3.7.10"
  }
 },
 "nbformat": 4,
 "nbformat_minor": 5
}
