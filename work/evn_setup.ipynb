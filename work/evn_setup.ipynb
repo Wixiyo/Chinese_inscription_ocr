{
 "cells": [
  {
   "cell_type": "code",
   "execution_count": 1,
   "id": "b1c70d14-13bf-409b-b776-3d0d6b36a6cd",
   "metadata": {
    "tags": []
   },
   "outputs": [
    {
     "name": "stdout",
     "output_type": "stream",
     "text": [
      "Cloning into 'mmocr'...\n",
      "remote: Enumerating objects: 6044, done.\u001b[K\n",
      "remote: Counting objects: 100% (1393/1393), done.\u001b[K\n",
      "remote: Compressing objects: 100% (585/585), done.\u001b[K\n",
      "remote: Total 6044 (delta 1059), reused 853 (delta 804), pack-reused 4651\u001b[K\n",
      "Receiving objects: 100% (6044/6044), 12.84 MiB | 1.21 MiB/s, done.\n",
      "Resolving deltas: 100% (3719/3719), done.\n"
     ]
    }
   ],
   "source": [
    "pip install mmcv-full -f https://download.openmmlab.com/mmcv/dist/cu113/torch1.10.0/index.html"
   ]
  },
  {
   "cell_type": "code",
   "execution_count": null,
   "id": "cd6d8939-7fd4-446a-9129-2149dff7b681",
   "metadata": {},
   "outputs": [],
   "source": [
    "# 从 github 上下载最新的 mmocr 源代码\n",
    "!git clone https://github.com/open-mmlab/mmocr.git"
   ]
  },
  {
   "cell_type": "code",
   "execution_count": 2,
   "id": "f1254483-0d10-4ff9-93b5-8c4dc5f294cc",
   "metadata": {},
   "outputs": [],
   "source": [
    "# 进入 mmocr 主目录\n",
    "import os\n",
    "os.chdir('mmocr')"
   ]
  },
  {
   "cell_type": "code",
   "execution_count": 3,
   "id": "dae438fa-15cd-415c-b604-c76578c669b9",
   "metadata": {},
   "outputs": [
    {
     "name": "stdout",
     "output_type": "stream",
     "text": [
      "Looking in indexes: https://pypi.tuna.tsinghua.edu.cn/simple\n",
      "Requirement already satisfied: numpy in /environment/miniconda3/lib/python3.7/site-packages (from -r requirements/build.txt (line 2)) (1.21.4)\n",
      "Collecting pyclipper\n",
      "  Downloading https://pypi.tuna.tsinghua.edu.cn/packages/c5/fa/2c294127e4f88967149a68ad5b3e43636e94e3721109572f8f17ab15b772/pyclipper-1.3.0.post2-cp37-cp37m-manylinux_2_5_x86_64.manylinux1_x86_64.whl (603 kB)\n",
      "\u001b[K     |████████████████████████████████| 603 kB 50.2 MB/s eta 0:00:01\n",
      "\u001b[?25hRequirement already satisfied: torch>=1.1 in /environment/miniconda3/lib/python3.7/site-packages (from -r requirements/build.txt (line 4)) (1.10.0+cu113)\n",
      "Requirement already satisfied: albumentations>=1.1.0 in /environment/miniconda3/lib/python3.7/site-packages (from -r requirements/optional.txt (line 1)) (1.1.0)\n",
      "Collecting imgaug\n",
      "  Downloading https://pypi.tuna.tsinghua.edu.cn/packages/66/b1/af3142c4a85cba6da9f4ebb5ff4e21e2616309552caca5e8acefe9840622/imgaug-0.4.0-py2.py3-none-any.whl (948 kB)\n",
      "\u001b[K     |████████████████████████████████| 948 kB 55.2 MB/s eta 0:00:01\n",
      "\u001b[?25hCollecting lanms-neo==1.0.2\n",
      "  Downloading https://pypi.tuna.tsinghua.edu.cn/packages/7b/fe/beff7e7e4455cb9f69c5734897ca8552a57f6423b062ec86b2ebc1d79c0d/lanms_neo-1.0.2.tar.gz (39 kB)\n",
      "  Installing build dependencies ... \u001b[?25ldone\n",
      "\u001b[?25h  Getting requirements to build wheel ... \u001b[?25ldone\n",
      "\u001b[?25h    Preparing wheel metadata ... \u001b[?25ldone\n",
      "\u001b[?25hCollecting lmdb\n",
      "  Downloading https://pypi.tuna.tsinghua.edu.cn/packages/4d/cf/3230b1c9b0bec406abb85a9332ba5805bdd03a1d24025c6bbcfb8ed71539/lmdb-1.3.0-cp37-cp37m-manylinux_2_12_x86_64.manylinux2010_x86_64.whl (298 kB)\n",
      "\u001b[K     |████████████████████████████████| 298 kB 70.2 MB/s eta 0:00:01\n",
      "\u001b[?25hRequirement already satisfied: matplotlib in /environment/miniconda3/lib/python3.7/site-packages (from -r requirements/runtime.txt (line 4)) (3.5.0)\n",
      "Collecting numba>=0.45.1\n",
      "  Downloading https://pypi.tuna.tsinghua.edu.cn/packages/25/f2/11ab5fd8dcb2c81e1a8d8a1209ea85e383ad2f45a9ce7807cc63833f56c0/numba-0.55.1-1-cp37-cp37m-manylinux2014_x86_64.manylinux_2_17_x86_64.whl (3.3 MB)\n",
      "\u001b[K     |████████████████████████████████| 3.3 MB 71.8 MB/s eta 0:00:01\n",
      "\u001b[?25hRequirement already satisfied: opencv-python-headless<=4.5.4.60 in /environment/miniconda3/lib/python3.7/site-packages (from -r requirements/runtime.txt (line 7)) (4.5.4.60)\n",
      "Requirement already satisfied: pycocotools in /environment/miniconda3/lib/python3.7/site-packages (from -r requirements/runtime.txt (line 9)) (2.0.4)\n",
      "Collecting rapidfuzz\n",
      "  Downloading https://pypi.tuna.tsinghua.edu.cn/packages/8b/4c/c36c36516acc5f52d45a1f74e7683e768e6b181c638a746e53a764835d77/rapidfuzz-2.0.9-cp37-cp37m-manylinux_2_17_x86_64.manylinux2014_x86_64.whl (1.8 MB)\n",
      "\u001b[K     |████████████████████████████████| 1.8 MB 68.6 MB/s eta 0:00:01\n",
      "\u001b[?25hRequirement already satisfied: scikit-image in /environment/miniconda3/lib/python3.7/site-packages (from -r requirements/runtime.txt (line 11)) (0.19.0)\n",
      "Requirement already satisfied: six in /environment/miniconda3/lib/python3.7/site-packages (from -r requirements/runtime.txt (line 12)) (1.16.0)\n",
      "Requirement already satisfied: terminaltables in /environment/miniconda3/lib/python3.7/site-packages (from -r requirements/runtime.txt (line 13)) (3.1.10)\n",
      "Collecting asynctest\n",
      "  Downloading https://pypi.tuna.tsinghua.edu.cn/packages/e8/b6/8d17e169d577ca7678b11cd0d3ceebb0a6089a7f4a2de4b945fe4b1c86db/asynctest-0.13.0-py3-none-any.whl (26 kB)\n",
      "Collecting codecov\n",
      "  Downloading https://pypi.tuna.tsinghua.edu.cn/packages/dc/e2/964d0881eff5a67bf5ddaea79a13c7b34a74bc4efe917b368830b475a0b9/codecov-2.1.12-py2.py3-none-any.whl (16 kB)\n",
      "Requirement already satisfied: flake8 in /environment/miniconda3/lib/python3.7/site-packages (from -r requirements/tests.txt (line 3)) (3.8.4)\n",
      "Requirement already satisfied: isort in /environment/miniconda3/lib/python3.7/site-packages (from -r requirements/tests.txt (line 4)) (5.10.1)\n",
      "Collecting kwarray\n",
      "  Downloading https://pypi.tuna.tsinghua.edu.cn/packages/fe/98/c0f7fd592291ffa585ee2eb9d19fbee71fc68505cd3c3fde4ef4355a111f/kwarray-0.6.0-py3-none-any.whl (78 kB)\n",
      "\u001b[K     |████████████████████████████████| 78 kB 62.0 MB/s eta 0:00:01\n",
      "\u001b[?25hCollecting pytest\n",
      "  Downloading https://pypi.tuna.tsinghua.edu.cn/packages/d2/ac/556e4410326ce77eeb1d1ec35a3e3ec847fb3e5cb30673729d2eeeffc970/pytest-7.1.1-py3-none-any.whl (297 kB)\n",
      "\u001b[K     |████████████████████████████████| 297 kB 70.4 MB/s eta 0:00:01\n",
      "\u001b[?25hCollecting pytest-cov\n",
      "  Downloading https://pypi.tuna.tsinghua.edu.cn/packages/20/49/b3e0edec68d81846f519c602ac38af9db86e1e71275528b3e814ae236063/pytest_cov-3.0.0-py3-none-any.whl (20 kB)\n",
      "Collecting pytest-runner\n",
      "  Downloading https://pypi.tuna.tsinghua.edu.cn/packages/42/7b/1cec26caae4bf44bb9911e1119d5d1a35171571e100b728a2ccd8719a3b1/pytest_runner-6.0.0-py3-none-any.whl (7.2 kB)\n",
      "Collecting ubelt\n",
      "  Downloading https://pypi.tuna.tsinghua.edu.cn/packages/d5/64/57f3df6a72d2126e3507c1ae6b705293261335da5ac96c2b8b74f97a9440/ubelt-1.0.1-py3-none-any.whl (151 kB)\n",
      "\u001b[K     |████████████████████████████████| 151 kB 72.5 MB/s eta 0:00:01\n",
      "\u001b[?25hCollecting xdoctest>=0.10.0\n",
      "  Downloading https://pypi.tuna.tsinghua.edu.cn/packages/5e/c0/f134451c51fd98bf35b9f92ea6a86599dac8b47cfc29e61ec4e4aae39019/xdoctest-1.0.0-py3-none-any.whl (117 kB)\n",
      "\u001b[K     |████████████████████████████████| 117 kB 70.9 MB/s eta 0:00:01\n",
      "\u001b[?25hRequirement already satisfied: yapf in /environment/miniconda3/lib/python3.7/site-packages (from -r requirements/tests.txt (line 12)) (0.31.0)\n",
      "Requirement already satisfied: typing-extensions in /environment/miniconda3/lib/python3.7/site-packages (from torch>=1.1->-r requirements/build.txt (line 4)) (4.0.1)\n",
      "Requirement already satisfied: PyYAML in /environment/miniconda3/lib/python3.7/site-packages (from albumentations>=1.1.0->-r requirements/optional.txt (line 1)) (6.0)\n",
      "Requirement already satisfied: scipy in /environment/miniconda3/lib/python3.7/site-packages (from albumentations>=1.1.0->-r requirements/optional.txt (line 1)) (1.7.3)\n",
      "Requirement already satisfied: qudida>=0.0.4 in /environment/miniconda3/lib/python3.7/site-packages (from albumentations>=1.1.0->-r requirements/optional.txt (line 1)) (0.0.4)\n",
      "Collecting llvmlite<0.39,>=0.38.0rc1\n",
      "  Downloading https://pypi.tuna.tsinghua.edu.cn/packages/35/ad/f0e5ea2096befce8213e5bc4cef1bb8e98f83c6b727d6e3de966a9b55da0/llvmlite-0.38.0-cp37-cp37m-manylinux_2_17_x86_64.manylinux2014_x86_64.whl (34.5 MB)\n",
      "\u001b[K     |████████████████████████████████| 34.5 MB 73.6 MB/s eta 0:00:01\n",
      "\u001b[?25hRequirement already satisfied: setuptools in /environment/miniconda3/lib/python3.7/site-packages (from numba>=0.45.1->-r requirements/runtime.txt (line 5)) (52.0.0.post20210125)\n",
      "Requirement already satisfied: networkx>=2.2 in /environment/miniconda3/lib/python3.7/site-packages (from scikit-image->-r requirements/runtime.txt (line 11)) (2.6.3)\n",
      "Requirement already satisfied: PyWavelets>=1.1.1 in /environment/miniconda3/lib/python3.7/site-packages (from scikit-image->-r requirements/runtime.txt (line 11)) (1.2.0)\n",
      "Requirement already satisfied: imageio>=2.4.1 in /environment/miniconda3/lib/python3.7/site-packages (from scikit-image->-r requirements/runtime.txt (line 11)) (2.13.3)\n",
      "Requirement already satisfied: tifffile>=2019.7.26 in /environment/miniconda3/lib/python3.7/site-packages (from scikit-image->-r requirements/runtime.txt (line 11)) (2021.11.2)\n",
      "Requirement already satisfied: packaging>=20.0 in /environment/miniconda3/lib/python3.7/site-packages (from scikit-image->-r requirements/runtime.txt (line 11)) (21.3)\n",
      "Requirement already satisfied: pillow!=7.1.0,!=7.1.1,!=8.3.0,>=6.1.0 in /environment/miniconda3/lib/python3.7/site-packages (from scikit-image->-r requirements/runtime.txt (line 11)) (8.4.0)\n",
      "Requirement already satisfied: pyparsing!=3.0.5,>=2.0.2 in /environment/miniconda3/lib/python3.7/site-packages (from packaging>=20.0->scikit-image->-r requirements/runtime.txt (line 11)) (3.0.6)\n",
      "Requirement already satisfied: scikit-learn>=0.19.1 in /environment/miniconda3/lib/python3.7/site-packages (from qudida>=0.0.4->albumentations>=1.1.0->-r requirements/optional.txt (line 1)) (1.0.1)\n",
      "Requirement already satisfied: threadpoolctl>=2.0.0 in /environment/miniconda3/lib/python3.7/site-packages (from scikit-learn>=0.19.1->qudida>=0.0.4->albumentations>=1.1.0->-r requirements/optional.txt (line 1)) (3.0.0)\n",
      "Requirement already satisfied: joblib>=0.11 in /environment/miniconda3/lib/python3.7/site-packages (from scikit-learn>=0.19.1->qudida>=0.0.4->albumentations>=1.1.0->-r requirements/optional.txt (line 1)) (1.1.0)\n",
      "Requirement already satisfied: opencv-python in /environment/miniconda3/lib/python3.7/site-packages (from imgaug->-r requirements/runtime.txt (line 1)) (4.5.4.60)\n",
      "Collecting Shapely\n",
      "  Downloading https://pypi.tuna.tsinghua.edu.cn/packages/9d/4d/4b0d86ed737acb29c5e627a91449470a9fb914f32640db3f1cb7ba5bc19e/Shapely-1.8.1.post1-cp37-cp37m-manylinux_2_12_x86_64.manylinux2010_x86_64.whl (2.0 MB)\n",
      "\u001b[K     |████████████████████████████████| 2.0 MB 70.6 MB/s eta 0:00:01\n",
      "\u001b[?25hRequirement already satisfied: python-dateutil>=2.7 in /environment/miniconda3/lib/python3.7/site-packages (from matplotlib->-r requirements/runtime.txt (line 4)) (2.8.2)\n",
      "Requirement already satisfied: setuptools-scm>=4 in /environment/miniconda3/lib/python3.7/site-packages (from matplotlib->-r requirements/runtime.txt (line 4)) (6.3.2)\n",
      "Requirement already satisfied: fonttools>=4.22.0 in /environment/miniconda3/lib/python3.7/site-packages (from matplotlib->-r requirements/runtime.txt (line 4)) (4.28.3)\n",
      "Requirement already satisfied: kiwisolver>=1.0.1 in /environment/miniconda3/lib/python3.7/site-packages (from matplotlib->-r requirements/runtime.txt (line 4)) (1.3.2)\n",
      "Requirement already satisfied: cycler>=0.10 in /environment/miniconda3/lib/python3.7/site-packages (from matplotlib->-r requirements/runtime.txt (line 4)) (0.11.0)\n",
      "Requirement already satisfied: tomli>=1.0.0 in /environment/miniconda3/lib/python3.7/site-packages (from setuptools-scm>=4->matplotlib->-r requirements/runtime.txt (line 4)) (1.2.2)\n",
      "Collecting jarowinkler<1.1.0,>=1.0.2\n",
      "  Downloading https://pypi.tuna.tsinghua.edu.cn/packages/bb/ff/bf558c169914fe87e0cdb300cba65a01fb1f6a8cb3a84bf86c5d9910341a/jarowinkler-1.0.2-cp37-cp37m-manylinux_2_17_x86_64.manylinux2014_x86_64.whl (103 kB)\n",
      "\u001b[K     |████████████████████████████████| 103 kB 74.6 MB/s eta 0:00:01\n",
      "\u001b[?25hCollecting coverage\n",
      "  Downloading https://pypi.tuna.tsinghua.edu.cn/packages/a6/42/286654245c1770af4c6a9c05a8b5190a4b09235a09837032cb32492e7df6/coverage-6.3.2-cp37-cp37m-manylinux_2_5_x86_64.manylinux1_x86_64.manylinux_2_17_x86_64.manylinux2014_x86_64.whl (207 kB)\n",
      "\u001b[K     |████████████████████████████████| 207 kB 70.3 MB/s eta 0:00:01\n",
      "\u001b[?25hRequirement already satisfied: requests>=2.7.9 in /environment/miniconda3/lib/python3.7/site-packages (from codecov->-r requirements/tests.txt (line 2)) (2.24.0)\n",
      "Requirement already satisfied: idna<3,>=2.5 in /environment/miniconda3/lib/python3.7/site-packages (from requests>=2.7.9->codecov->-r requirements/tests.txt (line 2)) (2.10)\n",
      "Requirement already satisfied: chardet<4,>=3.0.2 in /environment/miniconda3/lib/python3.7/site-packages (from requests>=2.7.9->codecov->-r requirements/tests.txt (line 2)) (3.0.4)\n",
      "Requirement already satisfied: urllib3!=1.25.0,!=1.25.1,<1.26,>=1.21.1 in /environment/miniconda3/lib/python3.7/site-packages (from requests>=2.7.9->codecov->-r requirements/tests.txt (line 2)) (1.25.11)\n",
      "Requirement already satisfied: certifi>=2017.4.17 in /environment/miniconda3/lib/python3.7/site-packages (from requests>=2.7.9->codecov->-r requirements/tests.txt (line 2)) (2021.5.30)\n",
      "Requirement already satisfied: mccabe<0.7.0,>=0.6.0 in /environment/miniconda3/lib/python3.7/site-packages (from flake8->-r requirements/tests.txt (line 3)) (0.6.1)\n",
      "Requirement already satisfied: importlib-metadata in /environment/miniconda3/lib/python3.7/site-packages (from flake8->-r requirements/tests.txt (line 3)) (4.8.2)\n",
      "Requirement already satisfied: pycodestyle<2.7.0,>=2.6.0a1 in /environment/miniconda3/lib/python3.7/site-packages (from flake8->-r requirements/tests.txt (line 3)) (2.6.0)\n",
      "Requirement already satisfied: pyflakes<2.3.0,>=2.2.0 in /environment/miniconda3/lib/python3.7/site-packages (from flake8->-r requirements/tests.txt (line 3)) (2.2.0)\n",
      "Requirement already satisfied: attrs>=19.2.0 in /environment/miniconda3/lib/python3.7/site-packages (from pytest->-r requirements/tests.txt (line 7)) (21.2.0)\n",
      "Requirement already satisfied: pluggy<2.0,>=0.12 in /environment/miniconda3/lib/python3.7/site-packages (from pytest->-r requirements/tests.txt (line 7)) (1.0.0)\n",
      "Collecting py>=1.8.2\n",
      "  Downloading https://pypi.tuna.tsinghua.edu.cn/packages/f6/f0/10642828a8dfb741e5f3fbaac830550a518a775c7fff6f04a007259b0548/py-1.11.0-py2.py3-none-any.whl (98 kB)\n",
      "\u001b[K     |████████████████████████████████| 98 kB 64.7 MB/s eta 0:00:01\n",
      "\u001b[?25hCollecting iniconfig\n",
      "  Downloading https://pypi.tuna.tsinghua.edu.cn/packages/9b/dd/b3c12c6d707058fa947864b67f0c4e0c39ef8610988d7baea9578f3c48f3/iniconfig-1.1.1-py2.py3-none-any.whl (5.0 kB)\n",
      "Requirement already satisfied: zipp>=0.5 in /environment/miniconda3/lib/python3.7/site-packages (from importlib-metadata->flake8->-r requirements/tests.txt (line 3)) (3.6.0)\n",
      "Collecting ordered-set\n",
      "  Downloading https://pypi.tuna.tsinghua.edu.cn/packages/33/55/af02708f230eb77084a299d7b08175cff006dea4f2721074b92cdb0296c0/ordered_set-4.1.0-py3-none-any.whl (7.6 kB)\n",
      "Building wheels for collected packages: lanms-neo\n",
      "  Building wheel for lanms-neo (PEP 517) ... \u001b[?25ldone\n",
      "\u001b[?25h  Created wheel for lanms-neo: filename=lanms_neo-1.0.2-cp37-cp37m-linux_x86_64.whl size=126375 sha256=41d91fed90ea65f88e10379390b92b3f59890600f11b4f6d56892701e4a01ee2\n",
      "  Stored in directory: /home/featurize/.cache/pip/wheels/9e/58/fa/15108d5cceb27278960e52dbc526b3625257b0d46f57a37c86\n",
      "Successfully built lanms-neo\n",
      "Installing collected packages: py, ordered-set, iniconfig, coverage, ubelt, Shapely, pytest, llvmlite, jarowinkler, xdoctest, rapidfuzz, pytest-runner, pytest-cov, pyclipper, numba, lmdb, lanms-neo, kwarray, imgaug, codecov, asynctest\n",
      "Successfully installed Shapely-1.8.1.post1 asynctest-0.13.0 codecov-2.1.12 coverage-6.3.2 imgaug-0.4.0 iniconfig-1.1.1 jarowinkler-1.0.2 kwarray-0.6.0 lanms-neo-1.0.2 llvmlite-0.38.0 lmdb-1.3.0 numba-0.55.1 ordered-set-4.1.0 py-1.11.0 pyclipper-1.3.0.post2 pytest-7.1.1 pytest-cov-3.0.0 pytest-runner-6.0.0 rapidfuzz-2.0.9 ubelt-1.0.1 xdoctest-1.0.0\n",
      "Using pip 21.1.3 from /environment/miniconda3/lib/python3.7/site-packages/pip (python 3.7)\n",
      "Non-user install because site-packages writeable\n",
      "Created temporary directory: /tmp/pip-ephem-wheel-cache-4gpu8qrj\n",
      "Created temporary directory: /tmp/pip-req-tracker-oqwg4cvw\n",
      "Initialized build tracking at /tmp/pip-req-tracker-oqwg4cvw\n",
      "Created build tracker: /tmp/pip-req-tracker-oqwg4cvw\n",
      "Entered build tracker: /tmp/pip-req-tracker-oqwg4cvw\n",
      "Created temporary directory: /tmp/pip-install-q3w9dhfm\n",
      "Looking in indexes: https://pypi.tuna.tsinghua.edu.cn/simple\n",
      "Obtaining file:///home/featurize/work/mmocr\n",
      "  Added file:///home/featurize/work/mmocr to build tracker '/tmp/pip-req-tracker-oqwg4cvw'\n",
      "    Running setup.py (path:/home/featurize/work/mmocr/setup.py) egg_info for package from file:///home/featurize/work/mmocr\n",
      "    Created temporary directory: /tmp/pip-pip-egg-info-9ia2u3kf\n",
      "    Running command python setup.py egg_info\n",
      "    running egg_info\n",
      "    creating /tmp/pip-pip-egg-info-9ia2u3kf/mmocr.egg-info\n",
      "    writing /tmp/pip-pip-egg-info-9ia2u3kf/mmocr.egg-info/PKG-INFO\n",
      "    writing dependency_links to /tmp/pip-pip-egg-info-9ia2u3kf/mmocr.egg-info/dependency_links.txt\n",
      "    writing requirements to /tmp/pip-pip-egg-info-9ia2u3kf/mmocr.egg-info/requires.txt\n",
      "    writing top-level names to /tmp/pip-pip-egg-info-9ia2u3kf/mmocr.egg-info/top_level.txt\n",
      "    writing manifest file '/tmp/pip-pip-egg-info-9ia2u3kf/mmocr.egg-info/SOURCES.txt'\n",
      "    reading manifest template 'MANIFEST.in'\n",
      "    warning: no files found matching 'mmocr/.mim/model-index.yml'\n",
      "    warning: no files found matching '*.py' under directory 'mmocr/.mim/configs'\n",
      "    warning: no files found matching '*.yml' under directory 'mmocr/.mim/configs'\n",
      "    warning: no files found matching '*.sh' under directory 'mmocr/.mim/tools'\n",
      "    warning: no files found matching '*.py' under directory 'mmocr/.mim/tools'\n",
      "    writing manifest file '/tmp/pip-pip-egg-info-9ia2u3kf/mmocr.egg-info/SOURCES.txt'\n",
      "  Source in /home/featurize/work/mmocr has version 0.5.0, which satisfies requirement mmocr==0.5.0 from file:///home/featurize/work/mmocr\n",
      "  Removed mmocr==0.5.0 from file:///home/featurize/work/mmocr from build tracker '/tmp/pip-req-tracker-oqwg4cvw'\n",
      "Requirement already satisfied: imgaug in /environment/miniconda3/lib/python3.7/site-packages (from mmocr==0.5.0) (0.4.0)\n",
      "Requirement already satisfied: lanms-neo==1.0.2 in /environment/miniconda3/lib/python3.7/site-packages (from mmocr==0.5.0) (1.0.2)\n",
      "Requirement already satisfied: lmdb in /environment/miniconda3/lib/python3.7/site-packages (from mmocr==0.5.0) (1.3.0)\n",
      "Requirement already satisfied: matplotlib in /environment/miniconda3/lib/python3.7/site-packages (from mmocr==0.5.0) (3.5.0)\n",
      "Requirement already satisfied: numba>=0.45.1 in /environment/miniconda3/lib/python3.7/site-packages (from mmocr==0.5.0) (0.55.1)\n",
      "Requirement already satisfied: numpy in /environment/miniconda3/lib/python3.7/site-packages (from mmocr==0.5.0) (1.21.4)\n",
      "Requirement already satisfied: opencv-python-headless<=4.5.4.60 in /environment/miniconda3/lib/python3.7/site-packages (from mmocr==0.5.0) (4.5.4.60)\n",
      "Requirement already satisfied: pyclipper in /environment/miniconda3/lib/python3.7/site-packages (from mmocr==0.5.0) (1.3.0.post2)\n",
      "Requirement already satisfied: pycocotools in /environment/miniconda3/lib/python3.7/site-packages (from mmocr==0.5.0) (2.0.4)\n",
      "Requirement already satisfied: rapidfuzz in /environment/miniconda3/lib/python3.7/site-packages (from mmocr==0.5.0) (2.0.9)\n",
      "Requirement already satisfied: scikit-image in /environment/miniconda3/lib/python3.7/site-packages (from mmocr==0.5.0) (0.19.0)\n",
      "Requirement already satisfied: six in /environment/miniconda3/lib/python3.7/site-packages (from mmocr==0.5.0) (1.16.0)\n",
      "Requirement already satisfied: terminaltables in /environment/miniconda3/lib/python3.7/site-packages (from mmocr==0.5.0) (3.1.10)\n",
      "Requirement already satisfied: llvmlite<0.39,>=0.38.0rc1 in /environment/miniconda3/lib/python3.7/site-packages (from numba>=0.45.1->mmocr==0.5.0) (0.38.0)\n",
      "Requirement already satisfied: setuptools in /environment/miniconda3/lib/python3.7/site-packages (from numba>=0.45.1->mmocr==0.5.0) (52.0.0.post20210125)\n",
      "Requirement already satisfied: Shapely in /environment/miniconda3/lib/python3.7/site-packages (from imgaug->mmocr==0.5.0) (1.8.1.post1)\n",
      "Requirement already satisfied: imageio in /environment/miniconda3/lib/python3.7/site-packages (from imgaug->mmocr==0.5.0) (2.13.3)\n",
      "Requirement already satisfied: Pillow in /environment/miniconda3/lib/python3.7/site-packages (from imgaug->mmocr==0.5.0) (8.4.0)\n",
      "Requirement already satisfied: scipy in /environment/miniconda3/lib/python3.7/site-packages (from imgaug->mmocr==0.5.0) (1.7.3)\n",
      "Requirement already satisfied: opencv-python in /environment/miniconda3/lib/python3.7/site-packages (from imgaug->mmocr==0.5.0) (4.5.4.60)\n",
      "Requirement already satisfied: packaging>=20.0 in /environment/miniconda3/lib/python3.7/site-packages (from scikit-image->mmocr==0.5.0) (21.3)\n",
      "Requirement already satisfied: PyWavelets>=1.1.1 in /environment/miniconda3/lib/python3.7/site-packages (from scikit-image->mmocr==0.5.0) (1.2.0)\n",
      "Requirement already satisfied: networkx>=2.2 in /environment/miniconda3/lib/python3.7/site-packages (from scikit-image->mmocr==0.5.0) (2.6.3)\n",
      "Requirement already satisfied: tifffile>=2019.7.26 in /environment/miniconda3/lib/python3.7/site-packages (from scikit-image->mmocr==0.5.0) (2021.11.2)\n",
      "Requirement already satisfied: pyparsing!=3.0.5,>=2.0.2 in /environment/miniconda3/lib/python3.7/site-packages (from packaging>=20.0->scikit-image->mmocr==0.5.0) (3.0.6)\n",
      "Requirement already satisfied: python-dateutil>=2.7 in /environment/miniconda3/lib/python3.7/site-packages (from matplotlib->mmocr==0.5.0) (2.8.2)\n",
      "Requirement already satisfied: kiwisolver>=1.0.1 in /environment/miniconda3/lib/python3.7/site-packages (from matplotlib->mmocr==0.5.0) (1.3.2)\n",
      "Requirement already satisfied: setuptools-scm>=4 in /environment/miniconda3/lib/python3.7/site-packages (from matplotlib->mmocr==0.5.0) (6.3.2)\n",
      "Requirement already satisfied: fonttools>=4.22.0 in /environment/miniconda3/lib/python3.7/site-packages (from matplotlib->mmocr==0.5.0) (4.28.3)\n",
      "Requirement already satisfied: cycler>=0.10 in /environment/miniconda3/lib/python3.7/site-packages (from matplotlib->mmocr==0.5.0) (0.11.0)\n",
      "Requirement already satisfied: tomli>=1.0.0 in /environment/miniconda3/lib/python3.7/site-packages (from setuptools-scm>=4->matplotlib->mmocr==0.5.0) (1.2.2)\n",
      "Requirement already satisfied: jarowinkler<1.1.0,>=1.0.2 in /environment/miniconda3/lib/python3.7/site-packages (from rapidfuzz->mmocr==0.5.0) (1.0.2)\n",
      "Created temporary directory: /tmp/pip-unpack-6faut6yq\n",
      "Installing collected packages: mmocr\n",
      "  Running setup.py develop for mmocr\n",
      "    Running command /environment/miniconda3/bin/python -c 'import io, os, sys, setuptools, tokenize; sys.argv[0] = '\"'\"'/home/featurize/work/mmocr/setup.py'\"'\"'; __file__='\"'\"'/home/featurize/work/mmocr/setup.py'\"'\"';f = getattr(tokenize, '\"'\"'open'\"'\"', open)(__file__) if os.path.exists(__file__) else io.StringIO('\"'\"'from setuptools import setup; setup()'\"'\"');code = f.read().replace('\"'\"'\\r\\n'\"'\"', '\"'\"'\\n'\"'\"');f.close();exec(compile(code, __file__, '\"'\"'exec'\"'\"'))' develop --no-deps\n",
      "    running develop\n",
      "    running egg_info\n",
      "    creating mmocr.egg-info\n",
      "    writing mmocr.egg-info/PKG-INFO\n",
      "    writing dependency_links to mmocr.egg-info/dependency_links.txt\n",
      "    writing requirements to mmocr.egg-info/requires.txt\n",
      "    writing top-level names to mmocr.egg-info/top_level.txt\n",
      "    writing manifest file 'mmocr.egg-info/SOURCES.txt'\n",
      "    reading manifest template 'MANIFEST.in'\n",
      "    writing manifest file 'mmocr.egg-info/SOURCES.txt'\n",
      "    running build_ext\n",
      "    Creating /environment/miniconda3/lib/python3.7/site-packages/mmocr.egg-link (link to .)\n",
      "    Adding mmocr 0.5.0 to easy-install.pth file\n",
      "\n",
      "    Installed /home/featurize/work/mmocr\n",
      "Successfully installed mmocr-0.5.0\n",
      "Removed build tracker: '/tmp/pip-req-tracker-oqwg4cvw'\n"
     ]
    }
   ],
   "source": [
    "!pip install -r requirements.txt\n",
    "!pip install -v -e ."
   ]
  },
  {
   "cell_type": "code",
   "execution_count": 4,
   "id": "af80872b-aea4-471b-ae94-9366c49fc511",
   "metadata": {},
   "outputs": [
    {
     "name": "stdout",
     "output_type": "stream",
     "text": [
      "load checkpoint from http path: https://download.openmmlab.com/mmocr/textrecog/sar/sar_r31_parallel_decoder_academic-dba3a4a3.pth\n"
     ]
    },
    {
     "name": "stderr",
     "output_type": "stream",
     "text": [
      "Downloading: \"https://download.openmmlab.com/mmocr/textrecog/sar/sar_r31_parallel_decoder_academic-dba3a4a3.pth\" to /home/featurize/.cache/torch/hub/checkpoints/sar_r31_parallel_decoder_academic-dba3a4a3.pth\n"
     ]
    },
    {
     "data": {
      "application/vnd.jupyter.widget-view+json": {
       "model_id": "b84431b348344f91b2276112641bb998",
       "version_major": 2,
       "version_minor": 0
      },
      "text/plain": [
       "  0%|          | 0.00/219M [00:00<?, ?B/s]"
      ]
     },
     "metadata": {},
     "output_type": "display_data"
    },
    {
     "name": "stdout",
     "output_type": "stream",
     "text": [
      "mmocr载入成功！\n"
     ]
    },
    {
     "name": "stderr",
     "output_type": "stream",
     "text": [
      "/home/featurize/work/mmocr/mmocr/apis/inference.py:50: UserWarning: Class names are not saved in the checkpoint's meta data, use COCO classes by default.\n",
      "  warnings.warn('Class names are not saved in the checkpoint\\'s '\n"
     ]
    }
   ],
   "source": [
    "# 导入工具包\n",
    "import torch, torchvision\n",
    "\n",
    "import mmcv\n",
    "from mmcv.ops import get_compiling_cuda_version, get_compiler_version\n",
    "\n",
    "import mmdet\n",
    "\n",
    "import mmocr\n",
    "from mmocr.utils.ocr import MMOCR\n",
    "mmocr = MMOCR(det=None, recog='SAR', device='cpu')\n",
    "print('mmocr载入成功！')"
   ]
  },
  {
   "cell_type": "code",
   "execution_count": null,
   "id": "d2724f3c-6b7f-456a-81d3-49b0379c1e86",
   "metadata": {},
   "outputs": [],
   "source": []
  }
 ],
 "metadata": {
  "kernelspec": {
   "display_name": "Python 3 (ipykernel)",
   "language": "python",
   "name": "python3"
  },
  "language_info": {
   "codemirror_mode": {
    "name": "ipython",
    "version": 3
   },
   "file_extension": ".py",
   "mimetype": "text/x-python",
   "name": "python",
   "nbconvert_exporter": "python",
   "pygments_lexer": "ipython3",
   "version": "3.7.10"
  }
 },
 "nbformat": 4,
 "nbformat_minor": 5
}
